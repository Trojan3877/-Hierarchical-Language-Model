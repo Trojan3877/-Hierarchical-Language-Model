import torch
import pandas as pd
from src.data_ingest import DataIngestor
from src.train import HLM
from src.evaluate import evaluate_model
from utils.logger import logger


# Load sample dataset
data_loader = DataIngestor("data/sample_dataset.csv")
df = data_loader.load_data()
df.head()


df = data_loader.preprocess()
train_df, val_df, test_df = data_loader.split_data()
print(f"Train: {len(train_df)} | Val: {len(val_df)} | Test: {len(test_df)}")


metrics = evaluate_model(model, documents, labels)
print("Evaluation Metrics:", metrics)



import matplotlib.pyplot as plt

metrics_history = {"accuracy": [0.8, 0.85, 0.9], "loss": [0.5, 0.3, 0.2]}

plt.plot(metrics_history["accuracy"], label="Accuracy")
plt.plot(metrics_history["loss"], label="Loss")
plt.legend()
plt.title("Training Progress")
plt.show()
